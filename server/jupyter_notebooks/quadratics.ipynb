{
 "cells": [
  {
   "cell_type": "markdown",
   "metadata": {},
   "source": [
    "# Quadratics\n",
    "\n",
    "First, the basics:"
   ]
  },
  {
   "cell_type": "code",
   "execution_count": 1,
   "metadata": {},
   "outputs": [],
   "source": [
    "from sympy import symbols\n",
    "x = symbols('x')"
   ]
  },
  {
   "cell_type": "markdown",
   "metadata": {},
   "source": [
    "## When is y=n?\n",
    "\n",
    "Example questions: \n",
    "* When $x^2+4x+4=0$, what is $x$?\n",
    "* (after word problem _(we need a word problem generator)_ describing $y = f(x)$ where $x$ is demand and $y$ is price) when the output price is $2555$, what is the demand?\n",
    "\n",
    "We'll probably stick with the first format for now.\n",
    "\n",
    "The answer would be a \"between $n$ and $n_1$\" sort of thing."
   ]
  },
  {
   "cell_type": "code",
   "execution_count": null,
   "metadata": {},
   "outputs": [],
   "source": []
  }
 ],
 "metadata": {
  "kernelspec": {
   "display_name": "Python 3",
   "language": "python",
   "name": "python3"
  },
  "language_info": {
   "codemirror_mode": {
    "name": "ipython",
    "version": 3
   },
   "file_extension": ".py",
   "mimetype": "text/x-python",
   "name": "python",
   "nbconvert_exporter": "python",
   "pygments_lexer": "ipython3",
   "version": "3.7.3"
  }
 },
 "nbformat": 4,
 "nbformat_minor": 2
}
